{
  "nbformat": 4,
  "nbformat_minor": 0,
  "metadata": {
    "colab": {
      "provenance": []
    },
    "kernelspec": {
      "name": "python3",
      "display_name": "Python 3"
    },
    "language_info": {
      "name": "python"
    }
  },
  "cells": [
    {
      "cell_type": "code",
      "execution_count": 3,
      "metadata": {
        "id": "Z0TYhjH1lBr7"
      },
      "outputs": [],
      "source": [
        "import pandas as pd"
      ]
    },
    {
      "cell_type": "code",
      "source": [
        "df = pd.read_csv('./data.csv')"
      ],
      "metadata": {
        "id": "jN_PX1uNlDqM"
      },
      "execution_count": 8,
      "outputs": []
    },
    {
      "cell_type": "code",
      "source": [
        "df['month2'] = df['month'].astype(str)\n",
        "df['week2'] = df['week'].astype(str)\n",
        "df['rank2'] = df['rank'].astype(str)"
      ],
      "metadata": {
        "id": "V1AA-uP-nXXD"
      },
      "execution_count": 14,
      "outputs": []
    },
    {
      "cell_type": "code",
      "source": [
        "df['id'] = df['month2'].str.pad(width=2,side='left',fillchar='0') + df['week2'].str.pad(width=2,side='left',fillchar='0') + df['rank2'].str.pad(width=3,side='left',fillchar='0')"
      ],
      "metadata": {
        "id": "qM3GFPb8mwBe"
      },
      "execution_count": 17,
      "outputs": []
    },
    {
      "cell_type": "code",
      "source": [
        "df.drop('month2', axis=1, inplace=True)\n",
        "df.drop('week2', axis=1, inplace=True)\n",
        "df.drop('rank2', axis=1, inplace=True)"
      ],
      "metadata": {
        "id": "veH_SMtinr9D"
      },
      "execution_count": 19,
      "outputs": []
    },
    {
      "cell_type": "code",
      "source": [
        "df = df[['id','product_id','month','week','rank','title','author','price','genre_first','genre_second','genre_third']]"
      ],
      "metadata": {
        "id": "tnUoec5zn1Lt"
      },
      "execution_count": 21,
      "outputs": []
    },
    {
      "cell_type": "code",
      "source": [
        "df.to_csv('result.csv',index=False)"
      ],
      "metadata": {
        "id": "lsXyyTAPoP3H"
      },
      "execution_count": 24,
      "outputs": []
    }
  ]
}