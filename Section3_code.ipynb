{
  "nbformat": 4,
  "nbformat_minor": 0,
  "metadata": {
    "colab": {
      "provenance": [],
      "collapsed_sections": []
    },
    "kernelspec": {
      "name": "python3",
      "display_name": "Python 3"
    },
    "language_info": {
      "name": "python"
    }
  },
  "cells": [
    {
      "cell_type": "code",
      "execution_count": 1,
      "metadata": {
        "id": "K0vNbuDk50s0"
      },
      "outputs": [],
      "source": [
        "import re\n",
        "import requests\n",
        "from bs4 import BeautifulSoup\n",
        "import pandas as pd"
      ]
    },
    {
      "cell_type": "code",
      "source": [
        "# 기본 정보 크롤링"
      ],
      "metadata": {
        "id": "rTary8pqQOO9"
      },
      "execution_count": 2,
      "outputs": []
    },
    {
      "cell_type": "code",
      "source": [
        "month_list = []\n",
        "week_list = []\n",
        "rank_list = []\n",
        "id_list = []\n",
        "title_list = []\n",
        "author_list = []\n",
        "publisher_list = []\n",
        "price_list = []"
      ],
      "metadata": {
        "id": "7-OlulDcUM-O"
      },
      "execution_count": 3,
      "outputs": []
    },
    {
      "cell_type": "code",
      "source": [
        "for i in range(1,11):\n",
        "  for j in range(1,6):\n",
        "    for m in range(1,6):\n",
        "      url = f'http://www.yes24.com/24/category/bestseller?CategoryNumber=001001046011&sumgb=08&year=2022&month={i}&week={j}&day=1&PageNumber={m}&layout=3'\n",
        "      page = requests.get(url)\n",
        "      soup = BeautifulSoup(page.content, 'html.parser')\n",
        "      for k in range(1,21):\n",
        "        if soup.select('#category_layout') == []:\n",
        "          pass\n",
        "        else:\n",
        "          title = soup.select(f'#category_layout > tr:nth-of-type({k}) > td:nth-of-type(2) > a:nth-of-type(1)')\n",
        "          author = soup.select(f'#category_layout > tr:nth-of-type({k}) > td:nth-of-type(2) > p > a:nth-of-type(1)')\n",
        "          price = soup.select(f'#category_layout > tr:nth-of-type({k}) > td:nth-of-type(2) > span > strong')\n",
        "\n",
        "          id = re.sub(r'[^0-9]','',str(title).split('>')[0])\n",
        "          \n",
        "          month_list.append(f'{i}')\n",
        "          week_list.append(f'{j}')\n",
        "          rank_list.append(f'{k+20*(m-1)}')\n",
        "          id_list.append(id)\n",
        "          title_list.append(str(title).split('>')[1].split('<')[0].strip())\n",
        "          author_list.append(str(author).split('>')[1].split('<')[0].strip())\n",
        "          price_list.append(str(price).split('>')[1].split('<')[0].strip())"
      ],
      "metadata": {
        "id": "SjzrRQQj567g"
      },
      "execution_count": 4,
      "outputs": []
    },
    {
      "cell_type": "code",
      "source": [
        "# 1차 df 정리"
      ],
      "metadata": {
        "id": "trGZACHgQSfL"
      },
      "execution_count": 5,
      "outputs": []
    },
    {
      "cell_type": "code",
      "source": [
        "df = pd.DataFrame(zip(month_list,week_list,rank_list,id_list,title_list,author_list,price_list))\n",
        "df.columns = ['month','week','rank','product_id','title','author','price']\n",
        "df = df[['product_id','month','week','rank','title','author','price']]"
      ],
      "metadata": {
        "id": "GFgAT4IXaJiI"
      },
      "execution_count": 6,
      "outputs": []
    },
    {
      "cell_type": "code",
      "source": [
        "# 책 구체 장르 크롤링"
      ],
      "metadata": {
        "id": "TJAG97E7QQ_Z"
      },
      "execution_count": 7,
      "outputs": []
    },
    {
      "cell_type": "code",
      "source": [
        "genres = ['추리/미스터리','공포/스릴러','판타지','무협','SF','역사','로맨스']\n",
        "genre_list = []\n",
        "id_set = list(set(id_list))"
      ],
      "metadata": {
        "id": "5AJZyRFUzta6"
      },
      "execution_count": 8,
      "outputs": []
    },
    {
      "cell_type": "code",
      "source": [
        "for i in id_set:\n",
        "  url = f'http://www.yes24.com/Product/Goods/{i}'\n",
        "  page = requests.get(url)\n",
        "  soup = BeautifulSoup(page.content, 'html.parser')\n",
        "  genre = soup.select('#infoset_goodsCate > div.infoSetCont_wrap > dl > dd > ul')\n",
        "  for j in genres:\n",
        "    if j in str(genre):\n",
        "      genre_list.append(f'{i}_{j}')\n",
        "    elif genre == []:\n",
        "      genre_list.append(f'{i}_x')"
      ],
      "metadata": {
        "id": "NH9fN-veqLgh"
      },
      "execution_count": 9,
      "outputs": []
    },
    {
      "cell_type": "code",
      "source": [
        "# x 발생 원인은 성인 제한으로 페이지가 정상적으로 넘어가지지 않아서 발생\n",
        "# 따로 로그인 후 장르를 직접 입력"
      ],
      "metadata": {
        "id": "-HyFxruLYsov"
      },
      "execution_count": 10,
      "outputs": []
    },
    {
      "cell_type": "code",
      "source": [
        "genre_id = []\n",
        "genre_first = []"
      ],
      "metadata": {
        "id": "R8wWqpRK1Ech"
      },
      "execution_count": 11,
      "outputs": []
    },
    {
      "cell_type": "code",
      "source": [
        "for i in genre_list:\n",
        "  genre_id.append(i.split('_')[0])\n",
        "  genre_first.append(i.split('_')[1])"
      ],
      "metadata": {
        "id": "EJ89WjCDR1Hi"
      },
      "execution_count": 12,
      "outputs": []
    },
    {
      "cell_type": "code",
      "source": [
        "df2 = pd.DataFrame(zip(genre_id,genre_first))\n",
        "df2.drop_duplicates(inplace=True)\n",
        "df2 = df2.sort_values(by=0).reset_index(drop=True)"
      ],
      "metadata": {
        "id": "henkOYjlBg5q"
      },
      "execution_count": 13,
      "outputs": []
    },
    {
      "cell_type": "code",
      "source": [
        "df3 = df2.copy()\n",
        "df3.drop_duplicates(subset=0, inplace=True) # 첫번째 장르"
      ],
      "metadata": {
        "id": "o_0qo6qqVpBl"
      },
      "execution_count": 14,
      "outputs": []
    },
    {
      "cell_type": "code",
      "source": [
        "df4 = df2.copy()\n",
        "df4 = df4.drop(df3.index)\n",
        "df4.drop_duplicates(subset=0, inplace=True) # 두번째 장르 가진 애들"
      ],
      "metadata": {
        "id": "aJ4MUq1MVtQR"
      },
      "execution_count": 15,
      "outputs": []
    },
    {
      "cell_type": "code",
      "source": [
        "df5 = df2.copy()\n",
        "df5.drop(df3.index, inplace=True)\n",
        "df5.drop(df4.index, inplace=True) # 세번째 장르 가진 애들"
      ],
      "metadata": {
        "id": "7zHnhXNRX7uy"
      },
      "execution_count": 16,
      "outputs": []
    },
    {
      "cell_type": "code",
      "source": [
        "df3[df3.loc[:,1] == 'x'].index"
      ],
      "metadata": {
        "colab": {
          "base_uri": "https://localhost:8080/"
        },
        "id": "v1MAQWc0YhHC",
        "outputId": "49f05de1-3eb9-4264-bf05-742ca53bb7e0"
      },
      "execution_count": 17,
      "outputs": [
        {
          "output_type": "execute_result",
          "data": {
            "text/plain": [
              "Int64Index([127, 133, 134, 189, 190, 290], dtype='int64')"
            ]
          },
          "metadata": {},
          "execution_count": 17
        }
      ]
    },
    {
      "cell_type": "code",
      "source": [
        "# 127 108708593 로맨스\n",
        "# 133 108934285 로맨스\n",
        "# 134 108934329 로맨스\n",
        "# 189 110529297 로맨스\n",
        "# 190 110556884 추리/미스터리, 공포/스릴러\n",
        "# 290 28473670 공포/스릴러"
      ],
      "metadata": {
        "id": "bFG-KUNBYhsc"
      },
      "execution_count": 18,
      "outputs": []
    },
    {
      "cell_type": "code",
      "source": [
        "# 첫번째 장르 변경"
      ],
      "metadata": {
        "id": "pKXIh3SlbCcl"
      },
      "execution_count": 19,
      "outputs": []
    },
    {
      "cell_type": "code",
      "source": [
        "def genre_change(id, genre):\n",
        "  df3.loc[id,1] = genre"
      ],
      "metadata": {
        "id": "hiuT_ZcAZRb0"
      },
      "execution_count": 20,
      "outputs": []
    },
    {
      "cell_type": "code",
      "source": [
        "genre_change(127, '로맨스')\n",
        "genre_change(133, '로맨스')\n",
        "genre_change(134, '로맨스')\n",
        "genre_change(189, '로맨스')\n",
        "genre_change(190, '추리/미스터리')\n",
        "genre_change(290, '공포/스릴러')"
      ],
      "metadata": {
        "id": "idOQeecAaRPx"
      },
      "execution_count": 21,
      "outputs": []
    },
    {
      "cell_type": "code",
      "source": [
        "# 두번째 장르 변경"
      ],
      "metadata": {
        "id": "Qt98LAoHa_2e"
      },
      "execution_count": 22,
      "outputs": []
    },
    {
      "cell_type": "code",
      "source": [
        "df4.loc[438] = [110556884, '공포/스릴러']"
      ],
      "metadata": {
        "id": "pI-6h_UBbGbs"
      },
      "execution_count": 23,
      "outputs": []
    },
    {
      "cell_type": "code",
      "source": [
        "# 2차 df 정리"
      ],
      "metadata": {
        "id": "XwKIuLJxeIXl"
      },
      "execution_count": 24,
      "outputs": []
    },
    {
      "cell_type": "code",
      "source": [
        "df3 = df3.reset_index(drop=True)\n",
        "df4 = df4.reset_index(drop=True)\n",
        "df5 = df5.reset_index(drop=True)"
      ],
      "metadata": {
        "id": "sId7EbAOcNkp"
      },
      "execution_count": 25,
      "outputs": []
    },
    {
      "cell_type": "code",
      "source": [
        "df3.columns = ['product_id','genre']\n",
        "df4.columns = ['product_id','genre_second']\n",
        "df5.columns = ['product_id','genre_third']"
      ],
      "metadata": {
        "id": "y7QsFI_9cSbH"
      },
      "execution_count": 61,
      "outputs": []
    },
    {
      "cell_type": "code",
      "source": [
        "df['price'] = df['price'].str.replace(\",\", \"\")\n",
        "df['price'] = df['price'].str.replace(\"원\", \"\")"
      ],
      "metadata": {
        "id": "Q3JEnWiscUjH"
      },
      "execution_count": 27,
      "outputs": []
    },
    {
      "cell_type": "code",
      "source": [
        "df['product_id'] = df['product_id'].astype(int)\n",
        "df['month'] = df['month'].astype(int)\n",
        "df['week'] = df['week'].astype(int)\n",
        "df['rank'] = df['rank'].astype(int)\n",
        "df['price'] = df['price'].astype(int)"
      ],
      "metadata": {
        "id": "uFnjCC57uhnH"
      },
      "execution_count": 28,
      "outputs": []
    },
    {
      "cell_type": "code",
      "source": [
        "df3['product_id'] = df3['product_id'].astype(int)\n",
        "df4['product_id'] = df4['product_id'].astype(int)\n",
        "df5['product_id'] = df5['product_id'].astype(int)"
      ],
      "metadata": {
        "id": "Tnoj8YNXyzrs"
      },
      "execution_count": 29,
      "outputs": []
    },
    {
      "cell_type": "code",
      "source": [
        "df6 = df[['product_id','title','author','price']]"
      ],
      "metadata": {
        "id": "QvylJcQT13Qq"
      },
      "execution_count": 36,
      "outputs": []
    },
    {
      "cell_type": "code",
      "source": [
        "df7 = df[['product_id','month','week','rank']]"
      ],
      "metadata": {
        "id": "SoAMKgAY2Q8B"
      },
      "execution_count": 37,
      "outputs": []
    },
    {
      "cell_type": "code",
      "source": [
        "df6 = df6.drop_duplicates()"
      ],
      "metadata": {
        "id": "AoWsv69_tFoK"
      },
      "execution_count": 43,
      "outputs": []
    },
    {
      "cell_type": "code",
      "source": [
        "df6 = df6.sort_values(by='product_id').reset_index(drop=True)"
      ],
      "metadata": {
        "id": "hH4b6wxftvVt"
      },
      "execution_count": 52,
      "outputs": []
    },
    {
      "cell_type": "code",
      "source": [
        "df3 = df3.sort_values(by='product_id').reset_index(drop=True)"
      ],
      "metadata": {
        "id": "lZAy7bQ6tTC8"
      },
      "execution_count": 53,
      "outputs": []
    },
    {
      "cell_type": "code",
      "source": [
        "df6['genre_first'] = df3['genre']"
      ],
      "metadata": {
        "id": "2xOY0A1Ltpfe"
      },
      "execution_count": 62,
      "outputs": []
    },
    {
      "cell_type": "code",
      "source": [
        "df6 = df6.drop('genre', axis=1)"
      ],
      "metadata": {
        "id": "cJUW4Cenu643"
      },
      "execution_count": 65,
      "outputs": []
    },
    {
      "cell_type": "code",
      "source": [
        "df6.to_csv('./book.csv', index=False)\n",
        "df7.to_csv('./weekly_rank.csv', index=False)\n",
        "df4.to_csv('./genre_second.csv', index=False)\n",
        "df5.to_csv('./genre_third.csv', index=False)"
      ],
      "metadata": {
        "id": "fRfBcu7K1ktT"
      },
      "execution_count": 66,
      "outputs": []
    },
    {
      "cell_type": "code",
      "source": [],
      "metadata": {
        "id": "EYPXIZhBEJ_v"
      },
      "execution_count": null,
      "outputs": []
    }
  ]
}